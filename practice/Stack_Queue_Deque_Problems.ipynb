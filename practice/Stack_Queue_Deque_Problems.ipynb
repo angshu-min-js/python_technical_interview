{
 "cells": [
  {
   "cell_type": "markdown",
   "metadata": {},
   "source": [
    "### Stack Implementation"
   ]
  },
  {
   "cell_type": "code",
   "execution_count": 1,
   "metadata": {
    "collapsed": false
   },
   "outputs": [],
   "source": [
    "'''Using Python's built in list'''\n",
    "class Stack(object):\n",
    "    def __init__(self):\n",
    "        self.items = []\n",
    "    def isEmpty(self):\n",
    "        return self.items == []\n",
    "    def push(self, item):\n",
    "        return self.items.append(item)\n",
    "    def pop(self):\n",
    "        return self.items.pop()\n",
    "    def peek(self):\n",
    "        return self.items[len(self.items)-1]\n",
    "    def size(self):\n",
    "        return len(self.items)"
   ]
  },
  {
   "cell_type": "code",
   "execution_count": 3,
   "metadata": {
    "collapsed": false
   },
   "outputs": [
    {
     "name": "stdout",
     "output_type": "stream",
     "text": [
      "True\n"
     ]
    }
   ],
   "source": [
    "s = Stack()\n",
    "print (s.isEmpty())"
   ]
  },
  {
   "cell_type": "code",
   "execution_count": 4,
   "metadata": {
    "collapsed": false
   },
   "outputs": [
    {
     "data": {
      "text/plain": [
       "'Angshu'"
      ]
     },
     "execution_count": 4,
     "metadata": {},
     "output_type": "execute_result"
    }
   ],
   "source": [
    "s.push('Angshu')\n",
    "s.peek()"
   ]
  },
  {
   "cell_type": "code",
   "execution_count": 5,
   "metadata": {
    "collapsed": false
   },
   "outputs": [
    {
     "data": {
      "text/plain": [
       "2"
      ]
     },
     "execution_count": 5,
     "metadata": {},
     "output_type": "execute_result"
    }
   ],
   "source": [
    "s.push('Angshuman')\n",
    "s.size()"
   ]
  },
  {
   "cell_type": "markdown",
   "metadata": {},
   "source": [
    "### Queue implementation"
   ]
  },
  {
   "cell_type": "code",
   "execution_count": 7,
   "metadata": {
    "collapsed": true
   },
   "outputs": [],
   "source": [
    "'''Using Python's built in list'''\n",
    "class Queue(object):\n",
    "    def __init__(self):\n",
    "        self.items = []\n",
    "    def isEmpty(self):\n",
    "        return self.items == []\n",
    "    def enqueue(self, item):\n",
    "        return self.items.insert(0, item)\n",
    "    def dequeue(self):\n",
    "        return self.items.pop()\n",
    "    def size(self):\n",
    "        return len(self.items)"
   ]
  },
  {
   "cell_type": "markdown",
   "metadata": {},
   "source": [
    "### Deque implementation"
   ]
  },
  {
   "cell_type": "code",
   "execution_count": 8,
   "metadata": {
    "collapsed": true
   },
   "outputs": [],
   "source": [
    "'''Using Python's built in list'''\n",
    "class Deque(object):\n",
    "    def __init__(self):\n",
    "        self.items = []\n",
    "    def isEmpty(self):\n",
    "        return self.items == []\n",
    "    def addFront(self, item):\n",
    "        return self.items.append(item)\n",
    "    def addRear(self, item):\n",
    "        return self.items.insert(0, item)\n",
    "    def removeFront(self):\n",
    "        return self.items.pop()\n",
    "    def removeRear(self):\n",
    "        return self.items.pop(0)\n",
    "    def size(self):\n",
    "        return len(self.items)"
   ]
  },
  {
   "cell_type": "code",
   "execution_count": null,
   "metadata": {
    "collapsed": true
   },
   "outputs": [],
   "source": []
  }
 ],
 "metadata": {
  "kernelspec": {
   "display_name": "Python 3",
   "language": "python",
   "name": "python3"
  },
  "language_info": {
   "codemirror_mode": {
    "name": "ipython",
    "version": 3
   },
   "file_extension": ".py",
   "mimetype": "text/x-python",
   "name": "python",
   "nbconvert_exporter": "python",
   "pygments_lexer": "ipython3",
   "version": "3.5.2"
  }
 },
 "nbformat": 4,
 "nbformat_minor": 1
}
