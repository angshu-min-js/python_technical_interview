{
 "cells": [
  {
   "cell_type": "markdown",
   "metadata": {},
   "source": [
    "### Computing the GPA"
   ]
  },
  {
   "cell_type": "code",
   "execution_count": 3,
   "metadata": {
    "collapsed": false
   },
   "outputs": [
    {
     "name": "stdout",
     "output_type": "stream",
     "text": [
      "Welcome to the GPA calculator.\n",
      "Please enter all your letter grades, one per line. \n",
      "Enter a blank line to designate the end.\n",
      "A\n",
      "B\n",
      "A\n",
      "A\n",
      "\n",
      "Your GPA is 3.75\n"
     ]
    }
   ],
   "source": [
    "print( 'Welcome to the GPA calculator.' )\n",
    "print( 'Please enter all your letter grades, one per line. ')\n",
    "print( 'Enter a blank line to designate the end.' )\n",
    "# map from letter grade to point value\n",
    "points = { 'A+' :4.0, 'A' :4.0, 'A-' :3.67, 'B+' :3.33, 'B' :3.0, 'B-' :2.67,\n",
    "'C+' :2.33, 'C' :2.0, 'C-' :1.67, 'D+' :1.33, 'D' :1.0, 'F' :0.0}\n",
    "num_courses = 0\n",
    "total_points = 0\n",
    "done = False\n",
    "while not done:\n",
    "    grade = input( ) # read line from user\n",
    "    if grade == '': # empty line was entered\n",
    "        done = True\n",
    "    elif grade not in points: # unrecognized grade entered\n",
    "        print(\"Unknown grade '{0}' being ignored\".format(grade))\n",
    "    else:\n",
    "        num_courses += 1\n",
    "        total_points += points[grade]\n",
    "if num_courses > 0: # avoid division by zero\n",
    "    print( 'Your GPA is {0:.3}'.format(total_points / num_courses))"
   ]
  },
  {
   "cell_type": "markdown",
   "metadata": {},
   "source": [
    "### Objects in Python"
   ]
  },
  {
   "cell_type": "markdown",
   "metadata": {},
   "source": [
    "| Class      | Description                          | Immutable? |\n",
    "|------------|--------------------------------------|------------|\n",
    "| bool       | Boolean value                        | yes        |\n",
    "| int        | integer (arbitrary magnitude)        | yes        |\n",
    "| float      | floating-point number                | yes        |\n",
    "| **list**       | mutable sequence of objects eg:[17,4]          | no         |\n",
    "| tuple      | immutable sequence of objects eg:(17,4)        | yes        |\n",
    "| str        | character string eg: \"hello\"                    | yes        |\n",
    "| **set**         | unordered set of distinct objects eg: set( hello )   | no        |\n",
    "| frozenset  | immutable form of set class          | yes        |\n",
    "| **dict**       | associative mapping (aka dictionary) {'A':1} | no         |\n",
    "\n",
    "- The quote delimiter can be designated using a backslash as a so-called escape character, as in Don\\ t worry . Because the backslash has this purpose, the backslash must itself be escaped to occur as a natural character of the string literal, as in C:\\\\Python\\\\ , for a string that would be displayed as C:\\Python\\.\n",
    "- Set( hello ) produces { h , e , l , o }\n",
    "-  For historical reasons, empty set ({}) isn't represented"
   ]
  },
  {
   "cell_type": "code",
   "execution_count": null,
   "metadata": {
    "collapsed": true
   },
   "outputs": [],
   "source": []
  }
 ],
 "metadata": {
  "kernelspec": {
   "display_name": "Python 3",
   "language": "python",
   "name": "python3"
  },
  "language_info": {
   "codemirror_mode": {
    "name": "ipython",
    "version": 3
   },
   "file_extension": ".py",
   "mimetype": "text/x-python",
   "name": "python",
   "nbconvert_exporter": "python",
   "pygments_lexer": "ipython3",
   "version": "3.5.2"
  }
 },
 "nbformat": 4,
 "nbformat_minor": 1
}
