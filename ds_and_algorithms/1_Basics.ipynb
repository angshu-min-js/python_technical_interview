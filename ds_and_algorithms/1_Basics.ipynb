{
 "cells": [
  {
   "cell_type": "markdown",
   "metadata": {},
   "source": [
    "### Let's start with the basics"
   ]
  },
  {
   "cell_type": "code",
   "execution_count": 8,
   "metadata": {
    "collapsed": false
   },
   "outputs": [
    {
     "name": "stdout",
     "output_type": "stream",
     "text": [
      "Welcome to the GPA calculator.\n",
      "Please enter all your letter grades, one per line. \n",
      "Enter a blank line to designate the end.\n",
      "A\n",
      "A\n",
      "A\n",
      "B\n",
      "C\n",
      "C\n",
      "C\n",
      "\n",
      "Your GPA is 3.0\n"
     ]
    }
   ],
   "source": [
    "# Computing the GPA\n",
    "print( 'Welcome to the GPA calculator.' )\n",
    "print( 'Please enter all your letter grades, one per line. ')\n",
    "print( 'Enter a blank line to designate the end.' )\n",
    "# map from letter grade to point value\n",
    "points = { 'A+' :4.0, 'A' :4.0, 'A-' :3.67, 'B+' :3.33, 'B' :3.0, 'B-' :2.67,\n",
    "'C+' :2.33, 'C' :2.0, 'C-' :1.67, 'D+' :1.33, 'D' :1.0, 'F' :0.0}\n",
    "num_courses = 0\n",
    "total_points = 0\n",
    "done = False\n",
    "while not done:\n",
    "    grade = input( ) # read line from user\n",
    "    if grade == '': # empty line was entered\n",
    "        done = True\n",
    "    elif grade not in points: # unrecognized grade entered\n",
    "        print(\"Unknown grade '{0}' being ignored\".format(grade))\n",
    "    else:\n",
    "        num_courses += 1\n",
    "        total_points += points[grade]\n",
    "if num_courses > 0: # avoid division by zero\n",
    "    print( 'Your GPA is {0:.3}'.format(total_points / num_courses))"
   ]
  },
  {
   "cell_type": "markdown",
   "metadata": {},
   "source": [
    "- **None** in Python is equivalent to **null** in Java/C++\n",
    "- Python is dynamically typed language so no need for advance declerations\n",
    "- instantiation is done by contructor of the class"
   ]
  },
  {
   "cell_type": "markdown",
   "metadata": {},
   "source": [
    "| Class      | Description                          | Immutable? |\n",
    "|------------|--------------------------------------|------------|\n",
    "| bool       | Boolean value                        | yes        |\n",
    "| int        | integer (arbitrary magnitude)        | yes        |\n",
    "| float      | floating-point number                | yes        |\n",
    "| **list**       | mutable sequence of objects eg:[17,4]          | no         |\n",
    "| tuple      | immutable sequence of objects eg:(17,4)        | yes        |\n",
    "| str        | character string eg: \"hello\"                    | yes        |\n",
    "| **set**         | unordered set of distinct objects eg: set( hello )   | no        |\n",
    "| frozenset  | immutable form of set class          | yes        |\n",
    "| **dict**       | associative mapping (aka dictionary) {'A':1} | no         |\n",
    "\n",
    "- The quote delimiter can be designated using a backslash as a so-called escape character, as in Don\\ t worry . Because the backslash has this purpose, the backslash must itself be escaped to occur as a natural character of the string literal, as in C:\\\\Python\\\\ , for a string that would be displayed as C:\\Python\\.\n",
    "- Set( hello ) produces { h , e , l , o }\n",
    "-  For historical reasons, empty set ({}) isn't represented"
   ]
  },
  {
   "cell_type": "markdown",
   "metadata": {},
   "source": [
    "- s[start:stop:step] slice including indices start, start + step\n",
    "- Performing an element by element comparison until the first difference is found: [5, 6, 9] < [5, 7] because of the entries at index 1\n",
    "- dict class does not support operators such as <, "
   ]
  },
  {
   "cell_type": "markdown",
   "metadata": {},
   "source": [
    "```python\n",
    "# Conditionals\n",
    "\n",
    "if first condition:\n",
    "    first body\n",
    "elif second condition:\n",
    "    second body\n",
    "elif third condition:\n",
    "    third body\n",
    "else:\n",
    "    fourth body\n",
    "```"
   ]
  },
  {
   "cell_type": "markdown",
   "metadata": {},
   "source": [
    "- **Raising an Exception** : \n",
    "```python\n",
    "raise ValueError(\"x cannot be negative\")\n",
    "```\n",
    "\n",
    "| Class              | Description                                               |\n",
    "|--------------------|-----------------------------------------------------------|\n",
    "| Exception          | A base class for most error types                         |\n",
    "| AttributeError     | Raised by syntax obj.foo, if obj has no member named foo  |\n",
    "| EOFError           | Raised if “end of file” reached for console or file input |\n",
    "| IOError            | Raised upon failure of I/O operation (e.g., opening file) |\n",
    "| IndexError         | Raised if index to sequence is out of bounds              |\n",
    "| KeyError           | Raised if nonexistent key requested for set or dictionary |\n",
    "| KeyboardInterrupt  | Raised if user types ctrl-C while program is executing    |\n",
    "| NameError          | Raised if nonexistent identifier used                     |\n",
    "| StopIteration      | Raised by next(iterator) if no element; see Section 1.8   |\n",
    "| TypeError          | Raised when wrong type of parameter is sent to a function |\n",
    "| ValueError         | Raised when parameter has invalid value (e.g., sqrt(−5))  |\n",
    "| ZeroDivisionError  | Raised when any division operator used with 0 as divisor  |\n",
    "\n",
    "- **Catching an Exception**\n",
    "```python\n",
    "try:\n",
    "ratio = x / y\n",
    "except ZeroDivisionError:\n",
    "... do something else ...\n",
    "```"
   ]
  },
  {
   "cell_type": "markdown",
   "metadata": {},
   "source": [
    "#### Iterators and Generators"
   ]
  },
  {
   "cell_type": "markdown",
   "metadata": {},
   "source": [
    "- The **iterator** does not store its own copy of the list of elements. Instead, it maintains a current index into the original list, representing the next element to be reported.\n",
    "- Uses Lazy evaluation technique\n",
    "- Generators are used to create iterators\n",
    "```python\n",
    "# Normal/return\n",
    "def factors(n): # traditional function that computes factors\n",
    "    results = [ ] # store factors in a new list\n",
    "    for k in range(1,n+1):\n",
    "        if n % k == 0: # divides evenly, thus k is a factor\n",
    "            results.append(k) # add k to the list of factors\n",
    "    return results # return the entire list\n",
    "```\n",
    "- **Generator**\n",
    "```python\n",
    "def factors(n): # generator that computes factors\n",
    "    for k in range(1,n+1):\n",
    "        if n % k == 0: # divides evenly, thus k is a factor\n",
    "            yield k # yield this factor as next result\n",
    "```"
   ]
  },
  {
   "cell_type": "markdown",
   "metadata": {},
   "source": [
    "- **Conditional Expressions** : expr1 if condition else expr2 --> equivalent to the in Java or C++: condition ? expr1 : expr2, in those languages.\n",
    "- **Comprehension syntax** : \n",
    "\n",
    "```python\n",
    "[ k*k for k in range(1, n+1) ] list comprehension\n",
    "{ k*k for k in range(1, n+1) } set comprehension\n",
    "( k*k for k in range(1, n+1) ) generator comprehension\n",
    "{ k:k*k for k in range(1, n+1) } dictionary comprehension\n",
    "```\n",
    "- **Packing and Unpacking** : \n",
    "\n",
    "```python\n",
    "a, b, c, d = range(7, 11) \n",
    "# a=7, b=8, c=9, and d=10```\n",
    "\n",
    "```python \n",
    "for x, y in [ (7, 2), (5, 8), (6, 4) ]:\n",
    "# During the first pass, x=7 and y=2, and so on.\n",
    "\n",
    "j, k = k, j #is equivalent to the temp version\n",
    "#temp = j\n",
    "#j=k\n",
    "#k = temp\n",
    "\n",
    "# Fibonacci Example\n",
    "def fibonacci( ):\n",
    "    a, b = 0, 1\n",
    "    while True:\n",
    "        yield a\n",
    "        a, b = b, a+b\n",
    "```"
   ]
  },
  {
   "cell_type": "markdown",
   "metadata": {},
   "source": [
    "- **Pseudo-Random Number Generation** : https://en.wikipedia.org/wiki/Mersenne_Twister"
   ]
  },
  {
   "cell_type": "markdown",
   "metadata": {
    "collapsed": true
   },
   "source": [
    "### Object Oriented Programming"
   ]
  },
  {
   "cell_type": "markdown",
   "metadata": {},
   "source": [
    "- Objects are **Actors** in OOP paradigm\n",
    "- They are instances of a Class\n",
    "- The class definition typically specifies instance variables, also known as data members, that the object contains, as well as the methods, also known as member functions, that the object can execute\n",
    "- Object-oriented design facilitates reusable, robust, and adaptable software"
   ]
  },
  {
   "cell_type": "markdown",
   "metadata": {},
   "source": [
    "#### Algorithm design patterns\n",
    "- Recursion \n",
    "- Amortization \n",
    "- Divide-and-conquer\n",
    "- Prune-and-search, also known as decrease-and-conquer \n",
    "- Brute force\n",
    "- Dynamic programming \n",
    "- The greedy method \n",
    "\n",
    "#### Software engineering design patterns:\n",
    "- Iterator\n",
    "- Adapter\n",
    "- Position\n",
    "- Composition\n",
    "- Template method\n",
    "- Locator \n",
    "- Factory method"
   ]
  },
  {
   "cell_type": "code",
   "execution_count": null,
   "metadata": {
    "collapsed": true
   },
   "outputs": [],
   "source": []
  }
 ],
 "metadata": {
  "kernelspec": {
   "display_name": "Python 3",
   "language": "python",
   "name": "python3"
  },
  "language_info": {
   "codemirror_mode": {
    "name": "ipython",
    "version": 3
   },
   "file_extension": ".py",
   "mimetype": "text/x-python",
   "name": "python",
   "nbconvert_exporter": "python",
   "pygments_lexer": "ipython3",
   "version": "3.5.2"
  }
 },
 "nbformat": 4,
 "nbformat_minor": 1
}
