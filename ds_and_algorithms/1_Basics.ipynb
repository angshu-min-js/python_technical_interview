{
 "cells": [
  {
   "cell_type": "markdown",
   "metadata": {},
   "source": [
    "### Let's start with the basics"
   ]
  },
  {
   "cell_type": "code",
   "execution_count": 8,
   "metadata": {
    "collapsed": false
   },
   "outputs": [
    {
     "name": "stdout",
     "output_type": "stream",
     "text": [
      "Welcome to the GPA calculator.\n",
      "Please enter all your letter grades, one per line. \n",
      "Enter a blank line to designate the end.\n",
      "A\n",
      "A\n",
      "A\n",
      "B\n",
      "C\n",
      "C\n",
      "C\n",
      "\n",
      "Your GPA is 3.0\n"
     ]
    }
   ],
   "source": [
    "# Computing the GPA\n",
    "print( 'Welcome to the GPA calculator.' )\n",
    "print( 'Please enter all your letter grades, one per line. ')\n",
    "print( 'Enter a blank line to designate the end.' )\n",
    "# map from letter grade to point value\n",
    "points = { 'A+' :4.0, 'A' :4.0, 'A-' :3.67, 'B+' :3.33, 'B' :3.0, 'B-' :2.67,\n",
    "'C+' :2.33, 'C' :2.0, 'C-' :1.67, 'D+' :1.33, 'D' :1.0, 'F' :0.0}\n",
    "num_courses = 0\n",
    "total_points = 0\n",
    "done = False\n",
    "while not done:\n",
    "    grade = input( ) # read line from user\n",
    "    if grade == '': # empty line was entered\n",
    "        done = True\n",
    "    elif grade not in points: # unrecognized grade entered\n",
    "        print(\"Unknown grade '{0}' being ignored\".format(grade))\n",
    "    else:\n",
    "        num_courses += 1\n",
    "        total_points += points[grade]\n",
    "if num_courses > 0: # avoid division by zero\n",
    "    print( 'Your GPA is {0:.3}'.format(total_points / num_courses))"
   ]
  },
  {
   "cell_type": "markdown",
   "metadata": {},
   "source": [
    "- **None** in Python is equivalent to **null** in Java/C++\n",
    "- Python is dynamically typed language so no need for advance declerations\n",
    "- instantiation is done by contructor of the class"
   ]
  },
  {
   "cell_type": "markdown",
   "metadata": {},
   "source": [
    "| Class      | Description                          | Immutable? |\n",
    "|------------|--------------------------------------|------------|\n",
    "| bool       | Boolean value                        | yes        |\n",
    "| int        | integer (arbitrary magnitude)        | yes        |\n",
    "| float      | floating-point number                | yes        |\n",
    "| **list**       | mutable sequence of objects eg:[17,4]          | no         |\n",
    "| tuple      | immutable sequence of objects eg:(17,4)        | yes        |\n",
    "| str        | character string eg: \"hello\"                    | yes        |\n",
    "| **set**         | unordered set of distinct objects eg: set( hello )   | no        |\n",
    "| frozenset  | immutable form of set class          | yes        |\n",
    "| **dict**       | associative mapping (aka dictionary) {'A':1} | no         |\n",
    "\n",
    "- The quote delimiter can be designated using a backslash as a so-called escape character, as in Don\\ t worry . Because the backslash has this purpose, the backslash must itself be escaped to occur as a natural character of the string literal, as in C:\\\\Python\\\\ , for a string that would be displayed as C:\\Python\\.\n",
    "- Set( hello ) produces { h , e , l , o }\n",
    "-  For historical reasons, empty set ({}) isn't represented"
   ]
  },
  {
   "cell_type": "markdown",
   "metadata": {},
   "source": [
    "- s[start:stop:step] slice including indices start, start + step\n",
    "- Performing an element by element comparison until the first difference is found: [5, 6, 9] < [5, 7] because of the entries at index 1\n",
    "- dict class does not support operators such as <, "
   ]
  },
  {
   "cell_type": "markdown",
   "metadata": {},
   "source": [
    "```python\n",
    "# Conditionals\n",
    "\n",
    "if first condition:\n",
    "    first body\n",
    "elif second condition:\n",
    "    second body\n",
    "elif third condition:\n",
    "    third body\n",
    "else:\n",
    "    fourth body\n",
    "```"
   ]
  },
  {
   "cell_type": "markdown",
   "metadata": {},
   "source": [
    "- **Raising an Exception** : \n",
    "```python\n",
    "raise ValueError(\"x cannot be negative\")\n",
    "```\n",
    "\n",
    "| Class              | Description                                               |\n",
    "|--------------------|-----------------------------------------------------------|\n",
    "| Exception          | A base class for most error types                         |\n",
    "| AttributeError     | Raised by syntax obj.foo, if obj has no member named foo  |\n",
    "| EOFError           | Raised if “end of file” reached for console or file input |\n",
    "| IOError            | Raised upon failure of I/O operation (e.g., opening file) |\n",
    "| IndexError         | Raised if index to sequence is out of bounds              |\n",
    "| KeyError           | Raised if nonexistent key requested for set or dictionary |\n",
    "| KeyboardInterrupt  | Raised if user types ctrl-C while program is executing    |\n",
    "| NameError          | Raised if nonexistent identifier used                     |\n",
    "| StopIteration      | Raised by next(iterator) if no element; see Section 1.8   |\n",
    "| TypeError          | Raised when wrong type of parameter is sent to a function |\n",
    "| ValueError         | Raised when parameter has invalid value (e.g., sqrt(−5))  |\n",
    "| ZeroDivisionError  | Raised when any division operator used with 0 as divisor  |\n",
    "\n",
    "- **Catching an Exception**\n",
    "```python\n",
    "try:\n",
    "ratio = x / y\n",
    "except ZeroDivisionError:\n",
    "... do something else ...\n",
    "```"
   ]
  },
  {
   "cell_type": "markdown",
   "metadata": {},
   "source": [
    "#### Iterators and Generators"
   ]
  },
  {
   "cell_type": "markdown",
   "metadata": {},
   "source": [
    "- The **iterator** does not store its own copy of the list of elements. Instead, it maintains a current index into the original list, representing the next element to be reported.\n",
    "- Uses **Lazy evaluation** technique\n",
    "- Generators are used to create iterators\n",
    "```python\n",
    "# Normal/return\n",
    "def factors(n): # traditional function that computes factors\n",
    "    results = [ ] # store factors in a new list\n",
    "    for k in range(1,n+1):\n",
    "        if n % k == 0: # divides evenly, thus k is a factor\n",
    "            results.append(k) # add k to the list of factors\n",
    "    return results # return the entire list\n",
    "```\n",
    "- **Generator**\n",
    "```python\n",
    "def factors(n): # generator that computes factors\n",
    "    for k in range(1,n+1):\n",
    "        if n % k == 0: # divides evenly, thus k is a factor\n",
    "            yield k # yield this factor as next result\n",
    "```"
   ]
  },
  {
   "cell_type": "markdown",
   "metadata": {},
   "source": [
    "- **Conditional Expressions** : expr1 if condition else expr2 --> equivalent to the in Java or C++: condition ? expr1 : expr2, in those languages.\n",
    "- **Comprehension syntax** : \n",
    "\n",
    "```python\n",
    "[ k*k for k in range(1, n+1) ] list comprehension\n",
    "{ k*k for k in range(1, n+1) } set comprehension\n",
    "( k*k for k in range(1, n+1) ) generator comprehension\n",
    "{ k:k*k for k in range(1, n+1) } dictionary comprehension\n",
    "```\n",
    "- **Packing and Unpacking** : \n",
    "\n",
    "```python\n",
    "a, b, c, d = range(7, 11) \n",
    "# a=7, b=8, c=9, and d=10```\n",
    "\n",
    "```python \n",
    "for x, y in [ (7, 2), (5, 8), (6, 4) ]:\n",
    "# During the first pass, x=7 and y=2, and so on.\n",
    "\n",
    "j, k = k, j #is equivalent to the temp version\n",
    "#temp = j\n",
    "#j=k\n",
    "#k = temp\n",
    "\n",
    "# Fibonacci Example\n",
    "def fibonacci( ):\n",
    "    a, b = 0, 1\n",
    "    while True:\n",
    "        yield a\n",
    "        a, b = b, a+b\n",
    "```"
   ]
  },
  {
   "cell_type": "markdown",
   "metadata": {},
   "source": [
    "- **Pseudo-Random Number Generation** : https://en.wikipedia.org/wiki/Mersenne_Twister"
   ]
  },
  {
   "cell_type": "markdown",
   "metadata": {
    "collapsed": true
   },
   "source": [
    "### Object Oriented Programming"
   ]
  },
  {
   "cell_type": "markdown",
   "metadata": {},
   "source": [
    "- Objects are **Actors** in OOP paradigm\n",
    "- They are instances of a Class\n",
    "- The class definition typically specifies instance variables, also known as data members, that the object contains, as well as the methods, also known as member functions, that the object can execute\n",
    "- Object-oriented design facilitates reusable, robust, and adaptable software"
   ]
  },
  {
   "cell_type": "markdown",
   "metadata": {},
   "source": [
    "#### Algorithm design patterns\n",
    "- Recursion \n",
    "- Amortization \n",
    "- Divide-and-conquer\n",
    "- Prune-and-search, also known as decrease-and-conquer \n",
    "- Brute force\n",
    "- Dynamic programming \n",
    "- The greedy method \n",
    "\n",
    "#### Software engineering design patterns:\n",
    "- Iterator\n",
    "- Adapter\n",
    "- Position\n",
    "- Composition\n",
    "- Template method\n",
    "- Locator \n",
    "- Factory method\n",
    "\n",
    "#### Software development phases:\n",
    "1. Design\n",
    "2. Implementation\n",
    "3. Testing and Debugging"
   ]
  },
  {
   "cell_type": "markdown",
   "metadata": {},
   "source": [
    "### Design:\n",
    "- Divide the work into actors (nouns), each with a different responsibility (verbs).\n",
    "- Define the work for each class to be as independent from other classes as possible.\n",
    "- Define the behaviors (methods) for each class carefully and precisely. These are **interface** of the class.\n",
    "- Use Class-Responsibility-Collaborator (CRC) cards\n",
    "- UML (Unified Modeling Language): **class diagram** is one type of UML figures"
   ]
  },
  {
   "cell_type": "code",
   "execution_count": 1,
   "metadata": {
    "collapsed": false
   },
   "outputs": [
    {
     "data": {
      "image/jpeg": "[encoded data removed]",
      "text/plain": [
       "<IPython.core.display.Image object>"
      ]
     },
     "execution_count": 1,
     "metadata": {},
     "output_type": "execute_result"
    }
   ],
   "source": [
    "from IPython.display import Image\n",
    "Image(filename='basics_class_diagram1.JPG')"
   ]
  },
  {
   "cell_type": "markdown",
   "metadata": {},
   "source": [
    "**Names for identifiers** :\n",
    "1. Classes: CamelCase and Singular Noun --> `Date, CreditCard`\n",
    "2. Functions: lowercase, multiple words are combined, separated by underscores and verb (or noun) --> `make payment`\n",
    "3. Names: Should be lowercase noun --> `price = 99.0`\n",
    "4. Constant Identifier : Caps and underscore --> `MAX_SIZE`\n",
    "5. For internal use (encapsulation, non public) : Begin with a single leading underscore --> `_secret`\n",
    "6. Comments: hash (#) and multiline is triple quotes (”””)\n",
    "\n",
    "### Testing \n",
    "- The sequence has zero length (no elements).\n",
    "- The sequence has one element.\n",
    "- All the elements of the sequence are the same.\n",
    "- The sequence is already sorted.\n",
    "- The sequence is reverse sorted.\n"
   ]
  },
  {
   "cell_type": "markdown",
   "metadata": {},
   "source": [
    "- There are two main testing strategies, **top-down** and **bottom-up**\n",
    "- **Unit testing** : Functions tested specific to the component in isolation of the larger software project.\n",
    "```python\n",
    "if name == __main__ :\n",
    "    # perform tests...\n",
    "```\n",
    "- As software is maintained, the act of regression testing is used\n",
    "- **Debugging** is done by using breakpoints and print statements."
   ]
  },
  {
   "cell_type": "markdown",
   "metadata": {},
   "source": [
    "### Class Definitions\n",
    "- A class provides a set of behaviors in the form of member functions (also known as methods)\n",
    "- State information for each instance is represented in the form of attributes (also known as fields, instance variables, or data members)\n",
    "\n",
    "** Example **\n",
    "```python\n",
    "class CreditCard:\n",
    "\t '''A consumer credit card.'''\n",
    "\n",
    "\t def __init__(self, customer, bank, acnt, limit):\n",
    "\t\t '''Create a new credit card instance.\n",
    "\n",
    "\t\t The initial balance is zero.\n",
    "\n",
    "\t\t customer the name of the customer (e.g., John Bowman )\n",
    "\t\t bank the name of the bank (e.g., California Savings )\n",
    "\t\t acnt the acount identifier (e.g., 5391 0375 9387 5309 )\n",
    "\t\t limit credit limit (measured in dollars) '''\n",
    "\t\t \n",
    "\t\t self._customer = customer\n",
    "\t\t self._bank = bank\n",
    "\t\t self._account = acnt\n",
    "\t\t self._limit = limit\n",
    "\t\t self._balance = 0\n",
    "\n",
    "\t def get_customer(self):\n",
    "\t\t '''Return name of the customer.'''\n",
    "\t\t return self._customer\n",
    "\n",
    "\t def get_bank(self):\n",
    "\t\t '''Return the bank s name.'''\n",
    "\t\t return self._bank\n",
    "\n",
    "\t def get_account(self):\n",
    "\t\t '''Return the card identifying number (typically stored as a string).'''\n",
    "\t\t return self._account\n",
    "\n",
    "\t def get_limit(self):\n",
    "\t\t '''Return current credit limit.'''\n",
    "\t\t return self._limit\n",
    "\n",
    "\t def get_balance(self):\n",
    "\t\t '''Return current balance.'''\n",
    "\t\t return self._balance\n",
    "\t def charge(self, price):\n",
    "\t\t '''Charge given price to the card, assuming sufficient credit limit.\n",
    "\n",
    "\t\t Return True if charge was processed; False if charge was denied.\n",
    "\t\t '''\n",
    "\t\t if price + self._balance > self._limit: # if charge would exceed limit,\n",
    "\t\t\treturn False # cannot accept charge\n",
    "\t\t else:\n",
    "\t\t\tself._balance += price\n",
    "\t\t\treturn True\n",
    "\n",
    "\t def make_payment(self, amount):\n",
    "\t\t '''Process customer payment that reduces balance.'''\n",
    "\t\t self._balance -= amount\n",
    "```"
   ]
  },
  {
   "cell_type": "markdown",
   "metadata": {},
   "source": [
    "### The Constructor\n",
    "```python\n",
    "cc = CreditCard( John Doe, 1st Bank , 5391 0375 9387 5309 , 1000) #Calls init\n",
    "```\n",
    "- A user can create an instance of the CreditCard class using the constructor --> Calls `__init__`"
   ]
  },
  {
   "cell_type": "markdown",
   "metadata": {},
   "source": [
    "**Test cases for the above class**\n",
    "```python\n",
    "if __name__ == '__main__' :\n",
    "    wallet = [ ]\n",
    "    wallet.append(CreditCard( 'John Bowman' , 'California Savings' ,'5391 0375 9387 5309' , 2500) )\n",
    "    wallet.append(CreditCard( 'John Bowman' , 'California Federal' ,'58 3485 0399 3395 1954' , 3500) )\n",
    "    wallet.append(CreditCard( 'John Bowman' , 'California Finance' ,'60 5391 0375 9387 5309' , 5000) )\n",
    "\n",
    "    for val in range(1, 17):\n",
    "        wallet[0].charge(val)\n",
    "        wallet[1].charge(2*val)\n",
    "        wallet[2].charge(3*val)\n",
    "\n",
    "    for c in range(3):\n",
    "        print( 'Customer =' , wallet[c].get_customer( ))\n",
    "        print( 'Bank =' , wallet[c].get_bank( ))\n",
    "        print( 'Account =' , wallet[c].get_account( ))\n",
    "        print( 'Limit =' , wallet[c].get_limit( ))\n",
    "        print( 'Balance =' , wallet[c].get_balance( ))\n",
    "        while wallet[c].get_balance( ) > 100:\n",
    "            wallet[c].make_payment(100)\n",
    "            print( 'New balance =' , wallet[c].get_balance( ))\n",
    "        print( )\n",
    "```"
   ]
  },
  {
   "cell_type": "markdown",
   "metadata": {},
   "source": [
    "### Operator overloading (Example)\n",
    "- The code below supports the syntax u = v + [5, 3, 10, −2, 1], resulting in a new vector that is the element-by-element “sum” of the first vector and the list instance. This is a result of Python’s **polymorphism**\n",
    "```python\n",
    "class Vector:\n",
    "\t '''Represent a vector in a multidimensional space.'''\n",
    "\n",
    "\t def __init__(self, d):\n",
    "\t\t '''Create d-dimensional vector of zeros.'''\n",
    "\t\t self._coords = [0]*d\n",
    "\n",
    "\t def __len__(self):\n",
    "\t\t '''Return the dimension of the vector.'''\n",
    "\t\t return len(self._coords)\n",
    "\n",
    "\t def __getitem__(self, j):\n",
    "\t\t '''Return jth coordinate of vector.'''\n",
    "\t\t return self._coords[j]\n",
    "\n",
    "\t def __setitem__(self, j, val):\n",
    "\t\t '''Set jth coordinate of vector to given value.'''\n",
    "\t\t self._coords[j] = val\n",
    "\n",
    "\t def __add__(self, other):\n",
    "\t\t '''Return sum of two vectors.'''\n",
    "\t\t if len(self) != len(other): # relies on len method\n",
    "\t\t\t raise ValueError( \"dimensions must agree\" )\n",
    "\t\t result = Vector(len(self)) # start with vector of zeros\n",
    "\t\t for j in range(len(self)):\n",
    "\t\t\tresult[j] = self[j] + other[j]\n",
    "\t\t return result\n",
    "\n",
    "\t def __eq__(self, other):\n",
    "\t\t '''Return True if vector has same coordinates as other.'''\n",
    "\t\t return self._coords == other._coords\n",
    "```"
   ]
  },
  {
   "cell_type": "markdown",
   "metadata": {},
   "source": [
    "#### A class that mimic's the built-in range class.\n",
    "```python\n",
    "class Range:\n",
    "\t '''A class that mimic's the built-in range class.'''\n",
    "\n",
    "\t def __init__(self, start, stop=None, step=1):\n",
    "\t\t '''Initialize a Range instance.\n",
    "\n",
    "\t\t Semantics is similar to built-in range class.\n",
    "\t\t '''\n",
    "\t\t if step == 0:\n",
    "\t\t\traise ValueError( \"step cannot be 0\" )\n",
    "\n",
    "\t\t if stop is None: # special case of range(n)\n",
    "\t\t\tstart, stop = 0, start # should be treated as if range(0,n)\n",
    "\n",
    "\t\t # calculate the effective length once\n",
    "\t\t self._length = max(0, (stop - start + step - 1) // step)\n",
    "\n",
    "\t\t # need knowledge of start and step (but not stop) to support getitem\n",
    "\t\t self._start = start\n",
    "\t\t self._step = step\n",
    "\n",
    "\t def __len__(self):\n",
    "\t\t '''Return number of entries in the range.'''\n",
    "\t\t return self._length\n",
    "\n",
    "\t def __getitem__(self, k):\n",
    "\t\t '''Return entry at index k (using standard interpretation if negative).'''\n",
    "\t\t if k < 0:\n",
    "\t\t\tk += len(self) # attempt to convert negative index\n",
    "\n",
    "\t\t if not 0 <= k < self. length:\n",
    "\t\t\traise IndexError( index out of range )\n",
    "\n",
    "\t\t return self. start + k self. step\n",
    "```"
   ]
  },
  {
   "cell_type": "markdown",
   "metadata": {},
   "source": [
    "### Inheritance\n",
    "- The existing class is typically described as the **base class**, **parent class**, or s**uperclass**, while the newly defined class is known as the **subclass** or **child class**.\n",
    "- A subclass may **specialize** an existing behavior by providing a new implementation that **overrides** an existing method.\n",
    "- A subclass may also **extend** its superclass by providing brand new methods.\n",
    "```python\n",
    "class PredatoryCreditCard(CreditCard): # Inherits from CreditCard\n",
    " \"\"\"An extension to CreditCard that compounds interest and fees.\"\"\"\n",
    "\n",
    "    def__init__(self, customer, bank, acnt, limit, apr):\n",
    "         \"\"\"Create a new predatory credit card instance.\n",
    "\n",
    "         The initial balance is zero.\n",
    "\n",
    "         customer the name of the customer (e.g., John Bowman )\n",
    "         bank the name of the bank (e.g., California Savings )\n",
    "         acnt the acount identifier (e.g., 5391 0375 9387 5309 )\n",
    "         limit credit limit (measured in dollars)\n",
    "         apr annual percentage rate (e.g., 0.0825 for 8.25% APR)\n",
    "         \"\"\"\n",
    "         super( ).__init__(customer, bank, acnt, limit) # call super constructor\n",
    "         self._apr = apr\n",
    "\n",
    "    def charge(self, price):\n",
    "         \"\"\"Charge given price to the card, assuming sufficient credit limit.\n",
    "\n",
    "         Return True if charge was processed.\n",
    "         Return False and assess 5 fee if charge is denied.\n",
    "         \"\"\"\n",
    "         success = super( ).charge(price) # call inherited method\n",
    "         if not success:\n",
    "         self._balance += 5 # assess penalty\n",
    "         return success # caller expects return value\n",
    "\n",
    "    def process_month(self):\n",
    "         \"\"\"Assess monthly interest on outstanding balance \"\"\"\n",
    "         if self._balance > 0:\n",
    "         # if positive balance, convert APR to monthly multiplicative factor\n",
    "         monthly_factor = pow(1 + self._apr, 1/12)\n",
    "         self._balance *= monthly factor\n",
    "```"
   ]
  },
  {
   "cell_type": "markdown",
   "metadata": {},
   "source": [
    "- Members that are declared as **protected** are accessible to subclasses, but not to the general **public**, while members that are declared as **private** are not accessible to either.\n",
    "- Python does not support formal access control, but names beginning with a **single underscore** are conventionally akin to **protected**, while names beginning with a **double underscore (other than special methods)** are akin to **private**.\n",
    "- **Abstract base class** if its only purpose is to serve as a base class through inheritance.\n",
    "- An **abstract base class** is one that cannot be directly instantiated, while a **concrete class** is one that can be instantiated.\n",
    "- **Decorators** : A Python decorator is a specific change to the Python syntax that allows us to more conveniently alter functions and methods (and possibly classes in a future version).\n",
    "\n",
    "```python\n",
    "def p_decorate(func):\n",
    "   def func_wrapper(self):\n",
    "       return \"<p>{0}</p>\".format(func(self))\n",
    "   return func_wrapper\n",
    "\n",
    "class Person(object):\n",
    "    def __init__(self):\n",
    "        self.name = \"John\"\n",
    "        self.family = \"Doe\"\n",
    "\n",
    "    @p_decorate\n",
    "    def get_fullname(self):\n",
    "        return self.name+\" \"+self.family\n",
    "```"
   ]
  },
  {
   "cell_type": "markdown",
   "metadata": {},
   "source": [
    "#### Nested Classes\n",
    "```python\n",
    "class A: # the outer class\n",
    "    class B: # the nested class\n",
    "...\n",
    "```\n",
    "- In Python `__slots__` is used to assign to a fixed sequence of strings that serve as names for instance variables.\n",
    "```python\n",
    "class CreditCard:\n",
    "    __slot__ = '_customer', '_bank', '_account', '_balance', '_limit'\n",
    "```\n",
    "- Slots helps to streamline every class\n",
    "#### Python interpreter begins a name resolution process, described as follows:\n",
    "    1. The instance namespace is searched; if the desired name is found, its associated value is used.\n",
    "    2. Otherwise the class namespace, for the class to which the instance belongs, is searched; if the name is found, its associated value is used.\n",
    "    3. If the name was not found in the immediate class namespace, the search continues upward through the inheritance hierarchy, checking the class namespace for each ancestor (commonly by checking the superclass class, then its superclass class, and so on). The first time the name is found, its associate value is used.\n",
    "    4. If the name has still not been found, an AttributeError is raised\n",
    "\n",
    "- Python uses what is known as **dynamic dispatch (or dynamic binding)** to determine, at run-time, which implementation of a function to call based upon the type of the object upon which it is invoked. Other languages use **static dispatching**, making a compile-time decision\n",
    "- **Shallow copy** : `A = list(B)` -> The new list is initialized so that its contents are precisely the same as the original sequence. Python’s lists are referential and the new list is a sequence of references. A and B are distinct lists but there remains a indirect aliasing\n",
    "- **Deep copy** : `A = copy.deepcopy(B)` -> The new copy references its own copies of those objects referenced by the original version.\n",
    "- **Alias** : `A = B` -> To modify A we need to change B"
   ]
  },
  {
   "cell_type": "markdown",
   "metadata": {},
   "source": [
    "### Algorithm Analysis\n",
    "\n",
    "- **Asymptotic Analysis** : Running time of an algorithm grows proportionally to n.\n",
    "- **The “Big-Oh” Notation** : $f(n) ≤ cg(n)$, for n ≥ n0\n",
    "- **Big-Omega** : $f(n) ≥ cg(n)$, for n ≥ n0\n",
    "- **Big-Theta** : $cg(n) ≤ f(n) ≤ cg(n)$, for n ≥ n0\n",
    "- $1< logn< n< nlog n< n^2< n^3< 2^n$"
   ]
  },
  {
   "cell_type": "code",
   "execution_count": null,
   "metadata": {
    "collapsed": true
   },
   "outputs": [],
   "source": []
  }
 ],
 "metadata": {
  "kernelspec": {
   "display_name": "Python 3",
   "language": "python",
   "name": "python3"
  },
  "language_info": {
   "codemirror_mode": {
    "name": "ipython",
    "version": 3
   },
   "file_extension": ".py",
   "mimetype": "text/x-python",
   "name": "python",
   "nbconvert_exporter": "python",
   "pygments_lexer": "ipython3",
   "version": "3.5.2"
  }
 },
 "nbformat": 4,
 "nbformat_minor": 1
}
