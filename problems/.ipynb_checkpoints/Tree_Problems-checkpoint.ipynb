{
 "cells": [
  {
   "cell_type": "markdown",
   "metadata": {
    "collapsed": true
   },
   "source": [
    "### Tree Representation Implementation (Lists)"
   ]
  },
  {
   "cell_type": "code",
   "execution_count": 7,
   "metadata": {
    "collapsed": false
   },
   "outputs": [],
   "source": [
    "#\n",
    "#      Well, every one needs a safety Pig :D\n",
    "#            _\n",
    "#     _._ _..._ .-',     _.._(`))\n",
    "#    '-. `     '  /-._.-'    ',/\n",
    "#       )         \\            '.\n",
    "#      / _    _    |             \\\n",
    "#     |  a    a    /              |\n",
    "#     \\   .-.                     ;  \n",
    "#      '-('' ).-'       ,'       ;\n",
    "#         '-;           |      .'\n",
    "#            \\           \\    /\n",
    "#            | 7  .__  _.-\\   \\\n",
    "#            | |  |  ``/  /`  /\n",
    "#           /,_|  |   /,_/   /\n",
    "#              /,_/      '`-'\n",
    "#    "
   ]
  },
  {
   "cell_type": "code",
   "execution_count": 1,
   "metadata": {
    "collapsed": false
   },
   "outputs": [],
   "source": [
    "def BinaryTree(r): #This is a simple representation\n",
    "    return [r, [], []]\n",
    "def insertLeft(root, newBranch):\n",
    "    t = root.pop(1)\n",
    "    if len(t)>1:\n",
    "        root.insert(1, [newBranch, t, []])\n",
    "    else:\n",
    "        root.insert(1, [newBranch, [], []])\n",
    "    return root\n",
    "def insertRight(root, newBranch):\n",
    "    t = root.pop(2)\n",
    "    if len(t)>1:\n",
    "        root.insert(2, [newBranch, [], t])\n",
    "    else:\n",
    "        root.insert(2, [newBranch, [], []])\n",
    "    return root           \n",
    "def getRootVal(root):\n",
    "    return root[0]\n",
    "def setRootVal(root, newVal):\n",
    "    root[0]=newVal\n",
    "def getLeftChild(root):\n",
    "    return root[1]\n",
    "def getRightChild(root):\n",
    "    return root[2]"
   ]
  },
  {
   "cell_type": "code",
   "execution_count": 2,
   "metadata": {
    "collapsed": false
   },
   "outputs": [
    {
     "data": {
      "text/plain": [
       "[3, [4, [], []], []]"
      ]
     },
     "execution_count": 2,
     "metadata": {},
     "output_type": "execute_result"
    }
   ],
   "source": [
    "r = BinaryTree(3)\n",
    "insertLeft(r, 4)"
   ]
  },
  {
   "cell_type": "code",
   "execution_count": 3,
   "metadata": {
    "collapsed": false
   },
   "outputs": [
    {
     "data": {
      "text/plain": [
       "[3, [5, [4, [], []], []], []]"
      ]
     },
     "execution_count": 3,
     "metadata": {},
     "output_type": "execute_result"
    }
   ],
   "source": [
    "insertLeft(r, 5)"
   ]
  },
  {
   "cell_type": "code",
   "execution_count": 4,
   "metadata": {
    "collapsed": false
   },
   "outputs": [
    {
     "data": {
      "text/plain": [
       "[3, [5, [4, [], []], []], [6, [], []]]"
      ]
     },
     "execution_count": 4,
     "metadata": {},
     "output_type": "execute_result"
    }
   ],
   "source": [
    "insertRight(r, 6)"
   ]
  },
  {
   "cell_type": "code",
   "execution_count": 5,
   "metadata": {
    "collapsed": false
   },
   "outputs": [
    {
     "data": {
      "text/plain": [
       "[3, [5, [4, [], []], []], [7, [], [6, [], []]]]"
      ]
     },
     "execution_count": 5,
     "metadata": {},
     "output_type": "execute_result"
    }
   ],
   "source": [
    "insertRight(r, 7)"
   ]
  },
  {
   "cell_type": "code",
   "execution_count": 7,
   "metadata": {
    "collapsed": false
   },
   "outputs": [
    {
     "name": "stdout",
     "output_type": "stream",
     "text": [
      "[5, [4, [], []], []]\n"
     ]
    }
   ],
   "source": [
    "print (getLeftChild(r))"
   ]
  },
  {
   "cell_type": "markdown",
   "metadata": {},
   "source": [
    " ### Nodes and References Implementation of a Tree"
   ]
  },
  {
   "cell_type": "code",
   "execution_count": 9,
   "metadata": {
    "collapsed": false
   },
   "outputs": [],
   "source": [
    "class BinaryTree(object):\n",
    "    def __init__(self, value):\n",
    "        self.value = value\n",
    "        self.left = None\n",
    "        self.right = None\n",
    "    def insertLeft(self,  newNode):\n",
    "        if self.left == None:\n",
    "            self.left = BinaryTree(newNode)\n",
    "        else:\n",
    "            t = BinaryTree(newNode)\n",
    "            t.left, self.left = self.left, t\n",
    "    def insertRight(self, newNode):\n",
    "        if self.right == None:\n",
    "            self.right = BinaryTree(newNode)\n",
    "        else:\n",
    "            t = BinaryTree(newNode)\n",
    "            t.right, self.right = self.right, t\n",
    "            \n",
    "    def getRight(self):\n",
    "        return self.right\n",
    "    def getLeft(self):\n",
    "        return self.left\n",
    "    def setRoot(self, obj):\n",
    "        self.value = obj\n",
    "    def getRoot(self):\n",
    "        return self.value"
   ]
  },
  {
   "cell_type": "code",
   "execution_count": 10,
   "metadata": {
    "collapsed": false
   },
   "outputs": [
    {
     "data": {
      "text/plain": [
       "'a'"
      ]
     },
     "execution_count": 10,
     "metadata": {},
     "output_type": "execute_result"
    }
   ],
   "source": [
    "r = BinaryTree('a')\n",
    "r.getRoot()"
   ]
  },
  {
   "cell_type": "code",
   "execution_count": 12,
   "metadata": {
    "collapsed": false
   },
   "outputs": [
    {
     "data": {
      "text/plain": [
       "'b'"
      ]
     },
     "execution_count": 12,
     "metadata": {},
     "output_type": "execute_result"
    }
   ],
   "source": [
    "r.insertLeft('b')\n",
    "r.getLeft().value"
   ]
  },
  {
   "cell_type": "code",
   "execution_count": 9,
   "metadata": {
    "collapsed": true
   },
   "outputs": [],
   "source": [
    "# Its best of define traversal as funtions rather than methods of the Binary Class\n",
    "\n",
    "class Node:\n",
    "    def __init__(self,key):\n",
    "        self.left = None\n",
    "        self.right = None\n",
    "        self.val = key\n",
    "        \n",
    "def preorder(tree):\n",
    "    if tree:\n",
    "        print (tree.val)\n",
    "        preorder(tree.left)\n",
    "        preorder(tree.right)\n",
    "\n",
    "def postorder(tree):\n",
    "    if tree:\n",
    "        postorder(tree.left)\n",
    "        postorder(tree.right)\n",
    "        print (tree.val)\n",
    "\n",
    "def inorder(tree):\n",
    "    if tree:\n",
    "        inorder(tree.left)\n",
    "        print (tree.val)\n",
    "        inorder(tree.right)"
   ]
  },
  {
   "cell_type": "code",
   "execution_count": 10,
   "metadata": {
    "collapsed": false,
    "scrolled": true
   },
   "outputs": [
    {
     "name": "stdout",
     "output_type": "stream",
     "text": [
      "Preorder traversal of binary tree is\n",
      "a\n",
      "b\n",
      "d\n",
      "e\n",
      "f\n",
      "c\n",
      "\n",
      "Inorder traversal of binary tree is\n",
      "d\n",
      "b\n",
      "e\n",
      "f\n",
      "a\n",
      "c\n",
      "\n",
      "Postorder traversal of binary tree is\n",
      "d\n",
      "f\n",
      "e\n",
      "b\n",
      "c\n",
      "a\n"
     ]
    }
   ],
   "source": [
    "root = Node('a')\n",
    "root.left      = Node('b')\n",
    "root.right     = Node('c')\n",
    "root.left.left  = Node('d')\n",
    "root.left.right  = Node('e')\n",
    "root.left.right.right  = Node('f')\n",
    "print (\"Preorder traversal of binary tree is\")\n",
    "preorder(root)\n",
    " \n",
    "print (\"\\nInorder traversal of binary tree is\")\n",
    "inorder(root)\n",
    " \n",
    "print (\"\\nPostorder traversal of binary tree is\")\n",
    "postorder(root)"
   ]
  },
  {
   "cell_type": "markdown",
   "metadata": {},
   "source": [
    "### Binary Heap Implementation"
   ]
  },
  {
   "cell_type": "markdown",
   "metadata": {},
   "source": [
    "#### The basic operations\n",
    "- BinaryHeap() creates a new, empty, binary heap.\n",
    "- insert(k) adds a new item to the heap.\n",
    "- findMin() returns the item with the minimum key value, leaving item in the heap.\n",
    "- delMin() returns the item with the minimum key value, removing the item from the heap.\n",
    "- isEmpty() returns true if the heap is empty, false otherwise.\n",
    "- size() returns the number of items in the heap.\n",
    "- buildHeap(list) builds a new heap from a list of keys."
   ]
  },
  {
   "cell_type": "code",
   "execution_count": 34,
   "metadata": {
    "collapsed": false
   },
   "outputs": [],
   "source": [
    "class HeapBinary:\n",
    "    def __init__(self):\n",
    "        self.heapList = [0]\n",
    "        self.currentSize = 0\n",
    "    def percUp(self, i):\n",
    "        while i //2 > 0:\n",
    "            if self.heapList[i] < self.heapList[i//2]:\n",
    "                tmp = self.heapList[i//2]\n",
    "                self.heapList[i//2] = self.heapList[i]\n",
    "                self.heapList[i] =  tmp\n",
    "            i = i // 2\n",
    "            \n",
    "    def insert(self, value):\n",
    "        self.heapList.append(value)\n",
    "        self.currentSize +=1\n",
    "        self.percUp(self.currentSize)\n",
    "    \n",
    "    def minChild(self, i):\n",
    "        if i * 2 > self.currentSize:\n",
    "            return i * 2\n",
    "        elif self.heapList[i*2]<self.heapList[i*2+1]:\n",
    "            return i*2\n",
    "        else:\n",
    "            return i*2+1\n",
    "    \n",
    "    def percDown(self, i):\n",
    "        while(i//2<=self.currentSize):\n",
    "            minC = self.minChild(i)\n",
    "            if self.heapList[i]>self.heapList[minC]:\n",
    "                tmp = self.heapList[i]\n",
    "                self.heapList[i] = self.heapList[minC]\n",
    "                self.heapList[minC] = tmp\n",
    "            i = minC\n",
    "            \n",
    "    def minDel(self):\n",
    "        val = self.heapList[1]\n",
    "        self.heapList[1] = self.heapList[self.currentSize]\n",
    "        self.currentSize -=1\n",
    "        self.heapList.pop()\n",
    "        self.percDown(1)\n",
    "        return val\n",
    "    \n",
    "    def buildHeap(self, listH):\n",
    "        i = len(listH)//2\n",
    "        self.currentSize = len(listH)\n",
    "        self.heapList = [0] + listH\n",
    "        while i>0:\n",
    "            percDown(i)\n",
    "            i -=1"
   ]
  },
  {
   "cell_type": "markdown",
   "metadata": {
    "collapsed": true
   },
   "source": [
    "### Binary Search Trees"
   ]
  },
  {
   "cell_type": "code",
   "execution_count": 8,
   "metadata": {
    "collapsed": true
   },
   "outputs": [],
   "source": [
    "class TreeNode:\n",
    "    def __init__(self, key, val, left=None, right=None):\n",
    "        self.key = key\n",
    "        self.value = val\n",
    "        self.leftChild = left\n",
    "        self.rightChild = right\n",
    "        self.parent = parent\n",
    "    \n",
    "    def hasLeftChild(self):\n",
    "        return self.leftChild\n",
    "    def hasRightChild(self):\n",
    "        return self.rightChild\n",
    "    \n",
    "    def isLeftChild(self):\n",
    "        return self.parent and self.parent.leftChild == self\n",
    "    def isRightChild(self):\n",
    "        return self.parent and self.parent.rightChild == self\n",
    "    \n",
    "    def isRoot(self):\n",
    "        return not self.parent\n",
    "    def isLeaf(self):\n",
    "        return not (self.rightChild or self.leftChild)\n",
    "    def hasAnyChildren(self):\n",
    "        return self.rightChild and self.leftChild\n",
    "    def hasBothChildren(self):\n",
    "        return self.rightChild and self.leftChild\n",
    "    \n",
    "    def replaceNodeData(self, key, value, lc, rc):\n",
    "        self.key = key\n",
    "        self.value = value\n",
    "        self.leftChild = lc\n",
    "        self.rightChild = rc\n",
    "        if self.hasLeftChild():\n",
    "            self.leftChild.parent = self\n",
    "        if self.hasRightChild():\n",
    "            self.rightChild.parent = self\n",
    "            \n",
    "class BinarySearchTree:\n",
    "    \n",
    "    def __init__(self):\n",
    "        self.root = None\n",
    "        self.size = 0\n",
    "        \n",
    "    def length(self):\n",
    "        return self.size\n",
    "    \n",
    "    def __len__(self):\n",
    "        return self.size\n",
    "    \n",
    "    def put(self, key, val):\n",
    "        if self.root:\n",
    "            self.putHelper(key, val, self.root)\n",
    "        else:\n",
    "            self.root = TreeNode(key, val)\n",
    "        self.size = self.size + 1\n",
    "        \n",
    "    def putHelper(self, key, val, currentNode):\n",
    "        if key<currentNode.key:\n",
    "            if currentNode.hasLeftChild():\n",
    "                self.putHelper(key, val, currentNode.leftChild)\n",
    "            else:\n",
    "                currentNode.leftChild = TreeNode(key, val, parent = currentNode)\n",
    "        else:\n",
    "            if currentNode.hasRightChild():\n",
    "                self.putHelper(key, val, currentNode.rightChild)\n",
    "            else:\n",
    "                currentNode.rightChild= TreeNode(key, val, parent = currentNode)\n",
    "                \n",
    "    def __setitem__(self, k , v):\n",
    "        self.put(k, v)\n",
    "        \n",
    "    def get(self, key):\n",
    "        if self.root:\n",
    "            res = self.getHelper(key, self.root)\n",
    "            if res:\n",
    "                return res.value\n",
    "            else:\n",
    "                return None\n",
    "    \n",
    "    def getHelper(self, key, currentNode):\n",
    "        if currentNode.key == key:\n",
    "            return currentNode\n",
    "        elif currentNode< currentNode.key:\n",
    "            return self.getHelper(key, currentNode.leftChild)\n",
    "        else:\n",
    "            return self.getHelper(key, currentNode.rightChild)\n",
    "        \n",
    "    def __getitem__(self, key):\n",
    "        return self.get(key)\n",
    "    \n",
    "    def __contains__(self, key):\n",
    "        if self.getHelper(key, self.root):\n",
    "            return True\n",
    "        else:\n",
    "            return False\n",
    "    \n",
    "    def delete(self,key):\n",
    "        \n",
    "        if self.size > 1:\n",
    "            \n",
    "            nodeToRemove = self.getHelper(key,self.root)\n",
    "            if nodeToRemove:\n",
    "                self.remove(nodeToRemove)\n",
    "                self.size = self.size-1\n",
    "            else:\n",
    "                raise KeyError('Error, key not in tree')\n",
    "        elif self.size == 1 and self.root.key == key:\n",
    "            self.root = None\n",
    "            self.size = self.size - 1\n",
    "        else:\n",
    "            raise KeyError('Error, key not in tree')\n",
    "\n",
    "    def __delitem__(self,key):\n",
    "        \n",
    "        self.delete(key)\n",
    "\n",
    "    def spliceOut(self):\n",
    "        if self.isLeaf():\n",
    "            if self.isLeftChild():\n",
    "                \n",
    "                self.parent.leftChild = None\n",
    "            else:\n",
    "                self.parent.rightChild = None\n",
    "        elif self.hasAnyChildren():\n",
    "            if self.hasLeftChild():\n",
    "                \n",
    "                if self.isLeftChild():\n",
    "                    \n",
    "                    self.parent.leftChild = self.leftChild\n",
    "                else:\n",
    "                    \n",
    "                    self.parent.rightChild = self.leftChild\n",
    "                    self.leftChild.parent = self.parent\n",
    "        else:\n",
    "                    \n",
    "            if self.isLeftChild():\n",
    "                        \n",
    "                self.parent.leftChild = self.rightChild\n",
    "            else:\n",
    "                self.parent.rightChild = self.rightChild\n",
    "                self.rightChild.parent = self.parent\n",
    "\n",
    "    def findSuccessor(self):\n",
    "        \n",
    "        succ = None\n",
    "        if self.hasRightChild():\n",
    "            succ = self.rightChild.findMin()\n",
    "        else:\n",
    "            if self.parent:\n",
    "                \n",
    "                if self.isLeftChild():\n",
    "                    \n",
    "                    succ = self.parent\n",
    "                else:\n",
    "                    self.parent.rightChild = None\n",
    "                    succ = self.parent.findSuccessor()\n",
    "                    self.parent.rightChild = self\n",
    "        return succ\n",
    "\n",
    "    def findMin(self):\n",
    "        \n",
    "        current = self\n",
    "        while current.hasLeftChild():\n",
    "            current = current.leftChild\n",
    "        return current\n",
    "\n",
    "    def remove(self,currentNode):\n",
    "        \n",
    "        if currentNode.isLeaf(): #leaf\n",
    "            if currentNode == currentNode.parent.leftChild:\n",
    "                currentNode.parent.leftChild = None\n",
    "            else:\n",
    "                currentNode.parent.rightChild = None\n",
    "        elif currentNode.hasBothChildren(): #interior\n",
    "            \n",
    "            succ = currentNode.findSuccessor()\n",
    "            succ.spliceOut()\n",
    "            currentNode.key = succ.key\n",
    "            currentNode.payload = succ.payload\n",
    "\n",
    "        else: # this node has one child\n",
    "            if currentNode.hasLeftChild():\n",
    "                if currentNode.isLeftChild():\n",
    "                    currentNode.leftChild.parent = currentNode.parent\n",
    "                    currentNode.parent.leftChild = currentNode.leftChild\n",
    "                elif currentNode.isRightChild():\n",
    "                    currentNode.leftChild.parent = currentNode.parent\n",
    "                    currentNode.parent.rightChild = currentNode.leftChild\n",
    "                else:\n",
    "                \n",
    "                    currentNode.replaceNodeData(currentNode.leftChild.key,\n",
    "                                    currentNode.leftChild.payload,\n",
    "                                    currentNode.leftChild.leftChild,\n",
    "                                    currentNode.leftChild.rightChild)\n",
    "            else:\n",
    "                \n",
    "                if currentNode.isLeftChild():\n",
    "                    currentNode.rightChild.parent = currentNode.parent\n",
    "                    currentNode.parent.leftChild = currentNode.rightChild\n",
    "                elif currentNode.isRightChild():\n",
    "                    currentNode.rightChild.parent = currentNode.parent\n",
    "                    currentNode.parent.rightChild = currentNode.rightChild\n",
    "                else:\n",
    "                    currentNode.replaceNodeData(currentNode.rightChild.key,\n",
    "                                    currentNode.rightChild.payload,\n",
    "                                    currentNode.rightChild.leftChild,\n",
    "                                    currentNode.rightChild.rightChild)\n",
    "            "
   ]
  },
  {
   "cell_type": "markdown",
   "metadata": {},
   "source": [
    "### Binary Search Tree Check"
   ]
  },
  {
   "cell_type": "code",
   "execution_count": 32,
   "metadata": {
    "collapsed": true
   },
   "outputs": [],
   "source": [
    "tree = []\n",
    "class Node:\n",
    "    def __init__(self,key):\n",
    "            self.left = None\n",
    "            self.right = None\n",
    "            self.val = key\n",
    "def inorder_tr(_tree):\n",
    "    if _tree:\n",
    "        inorder(_tree.left)\n",
    "        tree.append(_tree.val)\n",
    "        inorder(_tree.right)\n",
    "        print(\"check\")\n",
    "        return _tree == sorted(tree)"
   ]
  },
  {
   "cell_type": "code",
   "execution_count": 33,
   "metadata": {
    "collapsed": false
   },
   "outputs": [
    {
     "name": "stdout",
     "output_type": "stream",
     "text": [
      "4\n",
      "2\n",
      "5\n",
      "6\n",
      "3\n",
      "check\n"
     ]
    },
    {
     "data": {
      "text/plain": [
       "False"
      ]
     },
     "execution_count": 33,
     "metadata": {},
     "output_type": "execute_result"
    }
   ],
   "source": [
    "root = Node(1)\n",
    "root.left      = Node(2)\n",
    "root.right     = Node(3)\n",
    "root.left.left  = Node(4)\n",
    "root.left.right  = Node(5)\n",
    "root.left.right.right  = Node(6)\n",
    "\n",
    "inorder_tr(root)"
   ]
  },
  {
   "cell_type": "code",
   "execution_count": 46,
   "metadata": {
    "collapsed": false
   },
   "outputs": [
    {
     "name": "stdout",
     "output_type": "stream",
     "text": [
      "True\n",
      "False\n"
     ]
    }
   ],
   "source": [
    "class Node:\n",
    "    def __init__(self, k, val):\n",
    "        self.key = k\n",
    "        self.value = val\n",
    "        self.left = None\n",
    "        self.right = None\n",
    "        \n",
    "def max_tree(node):\n",
    "    if not node:\n",
    "        return float(\"-inf\") # Negative infinity\n",
    "    maxleft = max_tree(node.left)\n",
    "    maxright = max_tree(node.right)\n",
    "    return max(node.key, maxleft, maxright)\n",
    "\n",
    "def min_tree(node):\n",
    "    if not node:\n",
    "        return float(\"inf\") # Positive infinity\n",
    "    minleft = min_tree(node.left)\n",
    "    minright = min_tree(node.right)\n",
    "    return min(node.key, minleft, minright)\n",
    "\n",
    "def check(node):\n",
    "    if not node:\n",
    "        return True # An emptly list is BST\n",
    "    if (max_tree(node.left) <= node.key <= min_tree(node.right) and check(node.left) and check(node.right)):\n",
    "        return True\n",
    "    else:\n",
    "        return False\n",
    "root= Node(10, \"Hello\")\n",
    "root.left = Node(5, \"Five\")\n",
    "root.right= Node(30, \"Thirty\")\n",
    "\n",
    "print(check(root)) # prints True, since this tree is valid\n",
    "\n",
    "root = Node(10, \"Ten\")\n",
    "root.right = Node(20, \"Twenty\")\n",
    "root.left = Node(5, \"Five\")\n",
    "root.left.right = Node(15, \"Fifteen\")\n",
    "\n",
    "print(check(root)) # prints False, since 15 is to the left of 10    "
   ]
  },
  {
   "cell_type": "code",
   "execution_count": null,
   "metadata": {
    "collapsed": true
   },
   "outputs": [],
   "source": []
  },
  {
   "cell_type": "code",
   "execution_count": null,
   "metadata": {
    "collapsed": true
   },
   "outputs": [],
   "source": []
  }
 ],
 "metadata": {
  "kernelspec": {
   "display_name": "Python 3",
   "language": "python",
   "name": "python3"
  },
  "language_info": {
   "codemirror_mode": {
    "name": "ipython",
    "version": 3
   },
   "file_extension": ".py",
   "mimetype": "text/x-python",
   "name": "python",
   "nbconvert_exporter": "python",
   "pygments_lexer": "ipython3",
   "version": "3.5.2"
  }
 },
 "nbformat": 4,
 "nbformat_minor": 1
}
