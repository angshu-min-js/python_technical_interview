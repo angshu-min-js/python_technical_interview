{
 "cells": [
  {
   "cell_type": "code",
   "execution_count": 1,
   "metadata": {
    "collapsed": true
   },
   "outputs": [],
   "source": [
    "# unordered list search\n",
    "\n",
    "def search_list(arr, element):\n",
    "    pos = 0\n",
    "    flag = False\n",
    "    while pos<=len(arr) and not flag:\n",
    "        if arr[pos] == element:\n",
    "            flag = True\n",
    "        else:\n",
    "            pos+=1\n",
    "    return flag"
   ]
  },
  {
   "cell_type": "code",
   "execution_count": 8,
   "metadata": {
    "collapsed": true
   },
   "outputs": [],
   "source": [
    "# Ordered list search\n",
    "\n",
    "def search_ordered_list(arr, element):\n",
    "    pos = 0\n",
    "    flag = False\n",
    "    while pos<=len(arr) and not flag:\n",
    "        if arr[pos]== element:\n",
    "            flag = True\n",
    "        else:\n",
    "            if arr[pos]> element:\n",
    "                flag = False\n",
    "                break\n",
    "            else:\n",
    "                pos+=1\n",
    "        return flag"
   ]
  },
  {
   "cell_type": "code",
   "execution_count": 9,
   "metadata": {
    "collapsed": false
   },
   "outputs": [
    {
     "data": {
      "text/plain": [
       "False"
      ]
     },
     "execution_count": 9,
     "metadata": {},
     "output_type": "execute_result"
    }
   ],
   "source": [
    "arr=[1,2,3,4,5]\n",
    "search_ordered_list(arr, 7)"
   ]
  },
  {
   "cell_type": "code",
   "execution_count": null,
   "metadata": {
    "collapsed": true
   },
   "outputs": [],
   "source": []
  }
 ],
 "metadata": {
  "kernelspec": {
   "display_name": "Python 3",
   "language": "python",
   "name": "python3"
  },
  "language_info": {
   "codemirror_mode": {
    "name": "ipython",
    "version": 3
   },
   "file_extension": ".py",
   "mimetype": "text/x-python",
   "name": "python",
   "nbconvert_exporter": "python",
   "pygments_lexer": "ipython3",
   "version": "3.5.2"
  }
 },
 "nbformat": 4,
 "nbformat_minor": 1
}
