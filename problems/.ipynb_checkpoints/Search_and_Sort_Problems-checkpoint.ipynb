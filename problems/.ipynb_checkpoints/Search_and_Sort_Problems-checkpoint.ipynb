{
 "cells": [
  {
   "cell_type": "code",
   "execution_count": 1,
   "metadata": {
    "collapsed": true
   },
   "outputs": [],
   "source": [
    "# unordered list search --> O(n)\n",
    "\n",
    "def search_list(arr, element):\n",
    "    pos = 0\n",
    "    flag = False\n",
    "    while pos<=len(arr) and not flag:\n",
    "        if arr[pos] == element:\n",
    "            flag = True\n",
    "        else:\n",
    "            pos+=1\n",
    "    return flag"
   ]
  },
  {
   "cell_type": "code",
   "execution_count": 8,
   "metadata": {
    "collapsed": true
   },
   "outputs": [],
   "source": [
    "# Ordered list search --> O(n)\n",
    "\n",
    "def search_ordered_list(arr, element):\n",
    "    pos = 0\n",
    "    flag = False\n",
    "    while pos<=len(arr) and not flag:\n",
    "        if arr[pos]== element:\n",
    "            flag = True\n",
    "        else:\n",
    "            if arr[pos]> element:\n",
    "                flag = False\n",
    "                break\n",
    "            else:\n",
    "                pos+=1\n",
    "        return flag"
   ]
  },
  {
   "cell_type": "code",
   "execution_count": 9,
   "metadata": {
    "collapsed": false
   },
   "outputs": [
    {
     "data": {
      "text/plain": [
       "False"
      ]
     },
     "execution_count": 9,
     "metadata": {},
     "output_type": "execute_result"
    }
   ],
   "source": [
    "arr=[1,2,3,4,5]\n",
    "search_ordered_list(arr, 7)"
   ]
  },
  {
   "cell_type": "code",
   "execution_count": 12,
   "metadata": {
    "collapsed": true
   },
   "outputs": [],
   "source": [
    "# Binary Search --> Divide and Conquer --> O(n/2^k)\n",
    "# looping method\n",
    "# array must be sorted\n",
    "def binary_search1(arr, element):\n",
    "    f = 0\n",
    "    l = len(arr) - 1\n",
    "    flag = False\n",
    "    \n",
    "    while f<=l and not flag:\n",
    "        mid = (f+l)//2 # // integer divide\n",
    "        if arr[mid] == element:\n",
    "            flag = True\n",
    "        else:\n",
    "            if element<arr[mid]:\n",
    "                l = mid-1\n",
    "            else:\n",
    "                f = mid+1\n",
    "    return flag\n"
   ]
  },
  {
   "cell_type": "code",
   "execution_count": 13,
   "metadata": {
    "collapsed": false
   },
   "outputs": [
    {
     "data": {
      "text/plain": [
       "False"
      ]
     },
     "execution_count": 13,
     "metadata": {},
     "output_type": "execute_result"
    }
   ],
   "source": [
    "arr = [1,4,5,6,7,10,33,5]\n",
    "binary_search1(arr, 43)"
   ]
  },
  {
   "cell_type": "code",
   "execution_count": 14,
   "metadata": {
    "collapsed": true
   },
   "outputs": [],
   "source": [
    "def binary_search2(arr, element):\n",
    "    if len(arr) == 0:\n",
    "        return False\n",
    "    else:\n",
    "        mid = len(arr)//2 # // integer divide\n",
    "        if arr[mid] == element:\n",
    "            return True\n",
    "        else:\n",
    "            if element<arr[mid]:\n",
    "                return binary_search2(arr[:mid], element)\n",
    "            else:\n",
    "                return binary_search2(arr[mid+1:], element)"
   ]
  },
  {
   "cell_type": "code",
   "execution_count": 16,
   "metadata": {
    "collapsed": false
   },
   "outputs": [
    {
     "data": {
      "text/plain": [
       "True"
      ]
     },
     "execution_count": 16,
     "metadata": {},
     "output_type": "execute_result"
    }
   ],
   "source": [
    "arr = [1,4,5,6,7,10,33,5]\n",
    "binary_search1(arr, 6)"
   ]
  },
  {
   "cell_type": "code",
   "execution_count": null,
   "metadata": {
    "collapsed": true
   },
   "outputs": [],
   "source": []
  }
 ],
 "metadata": {
  "kernelspec": {
   "display_name": "Python 3",
   "language": "python",
   "name": "python3"
  },
  "language_info": {
   "codemirror_mode": {
    "name": "ipython",
    "version": 3
   },
   "file_extension": ".py",
   "mimetype": "text/x-python",
   "name": "python",
   "nbconvert_exporter": "python",
   "pygments_lexer": "ipython3",
   "version": "3.5.2"
  }
 },
 "nbformat": 4,
 "nbformat_minor": 1
}
