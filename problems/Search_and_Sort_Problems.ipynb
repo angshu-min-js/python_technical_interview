{
 "cells": [
  {
   "cell_type": "markdown",
   "metadata": {},
   "source": [
    "### Search: Sequencial and Binary"
   ]
  },
  {
   "cell_type": "code",
   "execution_count": 1,
   "metadata": {
    "collapsed": true
   },
   "outputs": [],
   "source": [
    "# unordered list search --> O(n)\n",
    "\n",
    "def search_list(arr, element):\n",
    "    pos = 0\n",
    "    flag = False\n",
    "    while pos<=len(arr) and not flag:\n",
    "        if arr[pos] == element:\n",
    "            flag = True\n",
    "        else:\n",
    "            pos+=1\n",
    "    return flag"
   ]
  },
  {
   "cell_type": "code",
   "execution_count": 8,
   "metadata": {
    "collapsed": true
   },
   "outputs": [],
   "source": [
    "# Ordered list search --> O(n)\n",
    "\n",
    "def search_ordered_list(arr, element):\n",
    "    pos = 0\n",
    "    flag = False\n",
    "    while pos<=len(arr) and not flag:\n",
    "        if arr[pos]== element:\n",
    "            flag = True\n",
    "        else:\n",
    "            if arr[pos]> element:\n",
    "                flag = False\n",
    "                break\n",
    "            else:\n",
    "                pos+=1\n",
    "        return flag"
   ]
  },
  {
   "cell_type": "code",
   "execution_count": 9,
   "metadata": {
    "collapsed": false
   },
   "outputs": [
    {
     "data": {
      "text/plain": [
       "False"
      ]
     },
     "execution_count": 9,
     "metadata": {},
     "output_type": "execute_result"
    }
   ],
   "source": [
    "arr=[1,2,3,4,5]\n",
    "search_ordered_list(arr, 7)"
   ]
  },
  {
   "cell_type": "code",
   "execution_count": 12,
   "metadata": {
    "collapsed": true
   },
   "outputs": [],
   "source": [
    "# Binary Search --> Divide and Conquer --> O(n/2^k)\n",
    "# looping method\n",
    "# array must be sorted\n",
    "def binary_search1(arr, element):\n",
    "    f = 0\n",
    "    l = len(arr) - 1\n",
    "    flag = False\n",
    "    \n",
    "    while f<=l and not flag:\n",
    "        mid = (f+l)//2 # // integer divide\n",
    "        if arr[mid] == element:\n",
    "            flag = True\n",
    "        else:\n",
    "            if element<arr[mid]:\n",
    "                l = mid-1\n",
    "            else:\n",
    "                f = mid+1\n",
    "    return flag\n"
   ]
  },
  {
   "cell_type": "code",
   "execution_count": 13,
   "metadata": {
    "collapsed": false
   },
   "outputs": [
    {
     "data": {
      "text/plain": [
       "False"
      ]
     },
     "execution_count": 13,
     "metadata": {},
     "output_type": "execute_result"
    }
   ],
   "source": [
    "arr = [1,4,5,6,7,10,33]\n",
    "binary_search1(arr, 43)"
   ]
  },
  {
   "cell_type": "code",
   "execution_count": 14,
   "metadata": {
    "collapsed": true
   },
   "outputs": [],
   "source": [
    "# Recursive\n",
    "def binary_search2(arr, element):\n",
    "    if len(arr) == 0:\n",
    "        return False\n",
    "    else:\n",
    "        mid = len(arr)//2 # // integer divide\n",
    "        if arr[mid] == element:\n",
    "            return True\n",
    "        else:\n",
    "            if element<arr[mid]:\n",
    "                return binary_search2(arr[:mid], element)\n",
    "            else:\n",
    "                return binary_search2(arr[mid+1:], element)"
   ]
  },
  {
   "cell_type": "code",
   "execution_count": 16,
   "metadata": {
    "collapsed": false
   },
   "outputs": [
    {
     "data": {
      "text/plain": [
       "True"
      ]
     },
     "execution_count": 16,
     "metadata": {},
     "output_type": "execute_result"
    }
   ],
   "source": [
    "arr = [1,4,5,6,7,10,33]\n",
    "binary_search1(arr, 6)"
   ]
  },
  {
   "cell_type": "markdown",
   "metadata": {},
   "source": [
    "### Implementation of a Hash Table"
   ]
  },
  {
   "cell_type": "markdown",
   "metadata": {},
   "source": [
    "#### Map\n",
    "\n",
    "- HashTable() Create a new, empty map. It returns an empty map collection.\n",
    "- put(key,val) Add a new key-value pair to the map. If the key is already in the map then replace the old value with the new value.\n",
    "- get(key) Given a key, return the value stored in the map or None otherwise.\n",
    "- del Delete the key-value pair from the map using a statement of the form del map[key].\n",
    "- len() Return the number of key-value pairs stored\n",
    "- in the map in Return True for a statement of the form key in map, if the given key is in the map, False otherwise."
   ]
  },
  {
   "cell_type": "code",
   "execution_count": 17,
   "metadata": {
    "collapsed": true
   },
   "outputs": [],
   "source": [
    "class HashTable(object):\n",
    "    def __init__(self, size):\n",
    "        self.size = size\n",
    "        self.slots = [None]*self.size\n",
    "        self.data = [None]*self.size\n",
    "    \n",
    "    def put(self, key, data):\n",
    "        hashvalue = self.hashfunction(key, len(self.slots))\n",
    "        if self.slots[hashvalue] == None:\n",
    "            self.slots[hashvalue] = key\n",
    "            self.data[hashvalue] = data\n",
    "        else: \n",
    "            if self.slots[hashvalue] == key:\n",
    "                self.data[hashvalue] = data\n",
    "            else: # rehashing\n",
    "                nextslot = self.rehash(hashvalue, len(self.slots))\n",
    "                while self.slots[nextslot] != None and self.slots[nextslot] != key:\n",
    "                    nextslot = self.rehash(nextslot, len(self.slots))\n",
    "                if self.slots[nextslot] == None:\n",
    "                    self.slots[nextslot] = key\n",
    "                    self.data[nextslot] = data\n",
    "                else:\n",
    "                    self.data[nextslot] = data\n",
    "            \n",
    "    \n",
    "    def hashfunction(self, key, size):\n",
    "        return key%size\n",
    "    \n",
    "    def rehash(self,oldhash, size):\n",
    "        return (oldhash+1)%size\n",
    "    \n",
    "    def get (self, key):\n",
    "        start = self.hashfunction(key, len(self.slots))\n",
    "        data = None\n",
    "        flag = False\n",
    "        pos = start\n",
    "        while self.slots[pos] != None and not flag:\n",
    "            if self.slots[pos] == key:\n",
    "                flag = True\n",
    "                data = self.data[pos]\n",
    "            else:\n",
    "                pos = self.reshash(pos, len(self.slots))\n",
    "                if pos == start:\n",
    "                    flag = True\n",
    "            return data\n",
    "        \n",
    "    def __getitem__(self,key):\n",
    "        return self.get(key)\n",
    "\n",
    "    def __setitem__(self,key,data):\n",
    "        self.put(key,data)\n",
    "    "
   ]
  },
  {
   "cell_type": "code",
   "execution_count": 18,
   "metadata": {
    "collapsed": false
   },
   "outputs": [
    {
     "data": {
      "text/plain": [
       "'one'"
      ]
     },
     "execution_count": 18,
     "metadata": {},
     "output_type": "execute_result"
    }
   ],
   "source": [
    "h = HashTable(5)\n",
    "h[1] = 'one'\n",
    "h[2] = 'two'\n",
    "h[3] = 'three'\n",
    "h[1]"
   ]
  },
  {
   "cell_type": "code",
   "execution_count": 19,
   "metadata": {
    "collapsed": true
   },
   "outputs": [],
   "source": [
    "h[1] = 'new_one'"
   ]
  },
  {
   "cell_type": "code",
   "execution_count": 20,
   "metadata": {
    "collapsed": false
   },
   "outputs": [
    {
     "data": {
      "text/plain": [
       "'new_one'"
      ]
     },
     "execution_count": 20,
     "metadata": {},
     "output_type": "execute_result"
    }
   ],
   "source": [
    "h[1]"
   ]
  },
  {
   "cell_type": "code",
   "execution_count": 22,
   "metadata": {
    "collapsed": false
   },
   "outputs": [
    {
     "name": "stdout",
     "output_type": "stream",
     "text": [
      "None\n"
     ]
    }
   ],
   "source": [
    "print (h[4])"
   ]
  },
  {
   "cell_type": "markdown",
   "metadata": {},
   "source": [
    "### Sorting"
   ]
  },
  {
   "cell_type": "code",
   "execution_count": 5,
   "metadata": {
    "collapsed": false
   },
   "outputs": [
    {
     "data": {
      "text/plain": [
       "[1, 2, 3, 4, 5, 6, 7, 8, 13, 20]"
      ]
     },
     "execution_count": 5,
     "metadata": {},
     "output_type": "execute_result"
    }
   ],
   "source": [
    "# Bubble Sort\n",
    "def bubble_sort(arr):\n",
    "    for n in range(len(arr)-1,0,-1): # starting from the end\n",
    "        for j in range(n):\n",
    "            if arr[j]>arr[j+1]:\n",
    "                temp = arr[j]\n",
    "                arr[j] = arr[j+1]\n",
    "                arr[j+1] = temp\n",
    "                \n",
    "arr = [3,2,13,4,6,5,7,8,1,20]\n",
    "bubble_sort(arr)\n",
    "arr"
   ]
  },
  {
   "cell_type": "code",
   "execution_count": 4,
   "metadata": {
    "collapsed": true
   },
   "outputs": [],
   "source": []
  },
  {
   "cell_type": "code",
   "execution_count": null,
   "metadata": {
    "collapsed": true
   },
   "outputs": [],
   "source": []
  }
 ],
 "metadata": {
  "kernelspec": {
   "display_name": "Python 3",
   "language": "python",
   "name": "python3"
  },
  "language_info": {
   "codemirror_mode": {
    "name": "ipython",
    "version": 3
   },
   "file_extension": ".py",
   "mimetype": "text/x-python",
   "name": "python",
   "nbconvert_exporter": "python",
   "pygments_lexer": "ipython3",
   "version": "3.5.2"
  }
 },
 "nbformat": 4,
 "nbformat_minor": 1
}
